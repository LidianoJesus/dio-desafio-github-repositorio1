{
  "nbformat": 4,
  "nbformat_minor": 0,
  "metadata": {
    "colab": {
      "provenance": [],
      "authorship_tag": "ABX9TyPtXSfW9Bn8Fqwd5KwNNRMo",
      "include_colab_link": true
    },
    "kernelspec": {
      "name": "python3",
      "display_name": "Python 3"
    },
    "language_info": {
      "name": "python"
    }
  },
  "cells": [
    {
      "cell_type": "markdown",
      "metadata": {
        "id": "view-in-github",
        "colab_type": "text"
      },
      "source": [
        "<a href=\"https://colab.research.google.com/github/LidianoJesus/dio-desafio-github-repositorio1/blob/main/Desafios_Intermedi%C3%A1rios_Py_Unimed_BH_2_3.ipynb\" target=\"_parent\"><img src=\"https://colab.research.google.com/assets/colab-badge.svg\" alt=\"Open In Colab\"/></a>"
      ]
    },
    {
      "cell_type": "code",
      "execution_count": null,
      "metadata": {
        "id": "s04b6WTskbvh"
      },
      "outputs": [],
      "source": [
        "while True: \n",
        "    try:\n",
        "      letra = input() \n",
        "      if (letra == 'esquerda'):\n",
        "        print('ingles')\n",
        "      elif (letra == 'direita'):\n",
        "        print('frances')\n",
        "      elif (letra == 'nenhuma'):\n",
        "        print('portugues')\n",
        "      else:\n",
        "        print('caiu')\n",
        "    except EOFError: \n",
        "        break"
      ]
    }
  ]
}