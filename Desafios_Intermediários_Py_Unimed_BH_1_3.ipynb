{
  "nbformat": 4,
  "nbformat_minor": 0,
  "metadata": {
    "colab": {
      "provenance": [],
      "authorship_tag": "ABX9TyOTcPJwzzrKbnaBxO4j5ou2",
      "include_colab_link": true
    },
    "kernelspec": {
      "name": "python3",
      "display_name": "Python 3"
    },
    "language_info": {
      "name": "python"
    }
  },
  "cells": [
    {
      "cell_type": "markdown",
      "metadata": {
        "id": "view-in-github",
        "colab_type": "text"
      },
      "source": [
        "<a href=\"https://colab.research.google.com/github/LidianoJesus/dio-desafio-github-repositorio1/blob/main/Desafios_Intermedi%C3%A1rios_Py_Unimed_BH_1_3.ipynb\" target=\"_parent\"><img src=\"https://colab.research.google.com/assets/colab-badge.svg\" alt=\"Open In Colab\"/></a>"
      ]
    },
    {
      "cell_type": "code",
      "execution_count": null,
      "metadata": {
        "id": "P678K9lBi_af"
      },
      "outputs": [],
      "source": [
        "letra = input()\n",
        "num = 0\n",
        "soma = 0\n",
        "num = ord(letra)\n",
        "for i in range(65, 91):\n",
        "  soma = soma + 1\n",
        "  if i == num:\n",
        "    print(soma)\n",
        "    break"
      ]
    }
  ]
}