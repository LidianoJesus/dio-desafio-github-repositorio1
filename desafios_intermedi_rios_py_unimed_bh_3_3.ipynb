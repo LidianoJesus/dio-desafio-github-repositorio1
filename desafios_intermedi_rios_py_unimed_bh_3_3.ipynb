{
  "nbformat": 4,
  "nbformat_minor": 0,
  "metadata": {
    "colab": {
      "provenance": [],
      "authorship_tag": "ABX9TyNbZWERyDkG5CEm5NMAXe1z",
      "include_colab_link": true
    },
    "kernelspec": {
      "name": "python3",
      "display_name": "Python 3"
    },
    "language_info": {
      "name": "python"
    }
  },
  "cells": [
    {
      "cell_type": "markdown",
      "metadata": {
        "id": "view-in-github",
        "colab_type": "text"
      },
      "source": [
        "<a href=\"https://colab.research.google.com/github/LidianoJesus/dio-desafio-github-repositorio1/blob/main/desafios_intermedi_rios_py_unimed_bh_3_3.ipynb\" target=\"_parent\"><img src=\"https://colab.research.google.com/assets/colab-badge.svg\" alt=\"Open In Colab\"/></a>"
      ]
    },
    {
      "cell_type": "code",
      "execution_count": null,
      "metadata": {
        "id": "14HevetFlEjM"
      },
      "outputs": [],
      "source": [
        "salario = int(input())\n",
        "\n",
        "if salario <= 600:\n",
        "  percentual = 17\n",
        "  reajuste = (salario/100) * percentual\n",
        "  novo_salario = (salario/100) * percentual + salario\n",
        "  print('Novo salario:',\"{:.2f}\".format(novo_salario))\n",
        "  print('Reajuste ganho:',\"{:.2f}\".format(reajuste))\n",
        "  print('Em percentual: {} %'.format(percentual))\n",
        "elif salario <= 900:\n",
        "  percentual = 13\n",
        "  reajuste = (salario/100) * percentual\n",
        "  novo_salario = (salario/100) * percentual + salario\n",
        "  print('Novo salario:',\"{:.2f}\".format(novo_salario))\n",
        "  print('Reajuste ganho:',\"{:.2f}\".format(reajuste))\n",
        "  print('Em percentual: {} %'.format(percentual))\n",
        "elif salario <= 1500:\n",
        "  percentual = 12\n",
        "  reajuste = (salario/100) * percentual\n",
        "  novo_salario = (salario/100) * percentual + salario\n",
        "  print('Novo salario:',\"{:.2f}\".format(novo_salario))\n",
        "  print('Reajuste ganho:',\"{:.2f}\".format(reajuste))\n",
        "  print('Em percentual: {} %'.format(percentual))\n",
        "elif salario <= 2000:\n",
        "  percentual = 10\n",
        "  reajuste = (salario/100) * percentual\n",
        "  novo_salario = (salario/100) * percentual + salario\n",
        "  print('Novo salario:',\"{:.2f}\".format(novo_salario))\n",
        "  print('Reajuste ganho:',\"{:.2f}\".format(reajuste))\n",
        "  print('Em percentual: {} %'.format(percentual))\n",
        "else:\n",
        "  percentual = 5\n",
        "  reajuste = (salario/100) * percentual\n",
        "  novo_salario = (salario/100) * percentual + salario\n",
        "  print('Novo salario:',\"{:.2f}\".format(novo_salario))\n",
        "  print('Reajuste ganho:',\"{:.2f}\".format(reajuste))\n",
        "  print('Em percentual: {} %'.format(percentual))\n"
      ]
    }
  ]
}